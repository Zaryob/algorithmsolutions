{
 "cells": [
  {
   "cell_type": "markdown",
   "id": "ae34b6ac-6672-42d5-a8c0-9a4b3410517a",
   "metadata": {},
   "source": [
    "Bit Tricks\n",
    "=========="
   ]
  }
 ],
 "metadata": {
  "kernelspec": {
   "display_name": "C",
   "language": "c",
   "name": "c"
  },
  "language_info": {
   "file_extension": ".c",
   "mimetype": "text/plain",
   "name": "c"
  }
 },
 "nbformat": 4,
 "nbformat_minor": 5
}
