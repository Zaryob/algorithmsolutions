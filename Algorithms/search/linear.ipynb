{
 "cells": [
  {
   "cell_type": "markdown",
   "id": "9654ce9c-3f1b-4fe3-bb37-a04961d6d6e3",
   "metadata": {},
   "source": [
    "Linear Search\n",
    "====\n",
    "\n",
    "Most basic one of the searching algorithm is **Linear Search**. In this method we will visit all elements in array until operation is finished.\n",
    "\n",
    "Complexity of this search method is *O(n)*, that means if array will larger, search time will be larger."
   ]
  },
  {
   "cell_type": "code",
   "execution_count": 1,
   "id": "2d04475c-a452-4459-9df7-27061ccf5683",
   "metadata": {},
   "outputs": [
    {
     "name": "stdout",
     "output_type": "stream",
     "text": [
      "Element \"9\" found at index \"4\""
     ]
    }
   ],
   "source": [
    "#include <stdio.h>\n",
    " \n",
    "int search(int arr[], int n, int x)\n",
    "{\n",
    "    int i;\n",
    "    for (i = 0; i < n; i++) {\n",
    "        if (arr[i] == x){\n",
    "            return i;\n",
    "        }\n",
    "    }\n",
    "    return -1;\n",
    "}\n",
    " \n",
    "int main(void)\n",
    "{\n",
    "    int arr[] = { 1,3,5,7,9,11,13 };\n",
    "    int x = 9;\n",
    "    int n = sizeof(arr) / sizeof(arr[0]);\n",
    "   \n",
    "    int result = search(arr, n, x);\n",
    "    if(result){\n",
    "        printf(\"Element \\\"%d\\\" found at index \\\"%d\\\"\", x, result);\n",
    "    }\n",
    "    else{\n",
    "        printf(\"Element \\\"%d\\\" not found in array\", x);\n",
    "    }\n",
    "    return 0;\n",
    "}"
   ]
  }
 ],
 "metadata": {
  "kernelspec": {
   "display_name": "C",
   "language": "c",
   "name": "c"
  },
  "language_info": {
   "file_extension": ".c",
   "mimetype": "text/plain",
   "name": "c"
  }
 },
 "nbformat": 4,
 "nbformat_minor": 5
}
