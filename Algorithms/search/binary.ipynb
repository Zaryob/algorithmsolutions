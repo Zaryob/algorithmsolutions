{
 "cells": [
  {
   "cell_type": "markdown",
   "id": "dee382fd-71da-434e-a8dd-f2fb566e2c0d",
   "metadata": {},
   "source": [
    "Binary Search\n",
    "====\n",
    "\n",
    "Binary Search is the most commonly used search method in sorted arrays. Firstly we will find lenght of the sorted array, then divide array into two. We will take starting values and ending values of this subarrays, then which interval can include our value, we will take this part and apply steps that described just now."
   ]
  },
  {
   "cell_type": "code",
   "execution_count": 1,
   "id": "8eb62a7c-d71b-4b28-936e-632674a87ed7",
   "metadata": {},
   "outputs": [
    {
     "name": "stdout",
     "output_type": "stream",
     "text": [
      "Element \"9\" found at index \"5\""
     ]
    }
   ],
   "source": [
    "#include <stdio.h>\n",
    "\n",
    "int binarySearch(int arr[], int l, int r, int x)\n",
    "{\n",
    "    if (r >= l) {\n",
    "        // we will comput what is the index of middle in array\n",
    "        int mid = l + (r - l) / 2;\n",
    "        \n",
    "        // check middle value of array\n",
    "        if (arr[mid] == x)\n",
    "            return mid;\n",
    "  \n",
    "        // if element is smaller than value in middle of the array,\n",
    "        // our value can only be present in left subarray\n",
    "        if (arr[mid] > x)\n",
    "            return binarySearch(arr, l, mid - 1, x);\n",
    "  \n",
    "        // else the element can only be present in right subarray\n",
    "        return binarySearch(arr, mid + 1, r, x);\n",
    "    }\n",
    "  \n",
    "    // If we wont find any occurence we jus return 1\n",
    "    return -1;\n",
    "}\n",
    "\n",
    "int main(){\n",
    "    int arr[] = { 1,3,5,7,9,11,13 };\n",
    "    int x = 9;\n",
    "    int n = sizeof(arr) / sizeof(arr[0]);\n",
    "   \n",
    "    int result = binarySearch(arr, 0, n-1, x);\n",
    "    if(result){\n",
    "        printf(\"Element \\\"%d\\\" found at index \\\"%d\\\"\", x, result+1);\n",
    "    }\n",
    "    else{\n",
    "        printf(\"Element \\\"%d\\\" not found in array\", x);\n",
    "    }\n",
    "    return 0;\n",
    "}"
   ]
  }
 ],
 "metadata": {
  "kernelspec": {
   "display_name": "C",
   "language": "c",
   "name": "c"
  },
  "language_info": {
   "file_extension": ".c",
   "mimetype": "text/plain",
   "name": "c"
  }
 },
 "nbformat": 4,
 "nbformat_minor": 5
}
