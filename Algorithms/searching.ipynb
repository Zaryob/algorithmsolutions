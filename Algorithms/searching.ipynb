{
 "cells": [
  {
   "cell_type": "markdown",
   "id": "67eceab5-d55c-4292-b5db-f817a1d69d6e",
   "metadata": {},
   "source": [
    "Searching Algorithms\n",
    "========"
   ]
  }
 ],
 "metadata": {
  "kernelspec": {
   "display_name": "C",
   "language": "c",
   "name": "c"
  },
  "language_info": {
   "file_extension": ".c",
   "mimetype": "text/plain",
   "name": "c"
  }
 },
 "nbformat": 4,
 "nbformat_minor": 5
}
