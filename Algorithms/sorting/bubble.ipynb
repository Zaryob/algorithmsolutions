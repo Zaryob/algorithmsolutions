{
 "cells": [
  {
   "cell_type": "markdown",
   "id": "703f92c7-7be2-4ea9-922d-6c94af23b853",
   "metadata": {},
   "source": [
    "Bubble Sort\n",
    "==========\n",
    "\n",
    "Bubble sort is most basic but not optimized sorting algorithm. The main approach is consist of some replacing operations. From first index of the array; it finds the smallest value in array, shifts it first and keep it repating until the list is totally sorted.\n",
    "\n",
    "\n",
    "Basically what we're going to do here with bubble sort is to create a loop from 0 to the length of the array. In this loop, we will create another loop, which will sort from 0 to the penultimate element. Finally, in the second loop, the element of one larger than the other was replaced.\n"
   ]
  },
  {
   "cell_type": "code",
   "execution_count": 1,
   "id": "cf2af609-b1b4-48a8-97e7-c914875c2675",
   "metadata": {},
   "outputs": [
    {
     "name": "stdout",
     "output_type": "stream",
     "text": [
      "Below is the list of elements not sorted order:\n",
      "21, 232, 34, 43, 23, 1, 56, 43, \n",
      "\n",
      "\n",
      "Below is the list of elements sorted in ascending order:\n",
      "1, 21, 23, 34, 43, 43, 56, 232, \n"
     ]
    }
   ],
   "source": [
    "#include <stdio.h>\n",
    "#include <stdlib.h>\n",
    "\n",
    "int main()\n",
    "{\n",
    "    int counter, counter1, swap_var;\n",
    "    \n",
    "    int array[]={21,232,34,43,23,1,56,43}; // Integer array\n",
    "    \n",
    "    int size = sizeof array / sizeof array[0]; // lenght of array\n",
    "    \n",
    "    printf(\"Below is the list of elements not sorted order:\\n\");\n",
    "    \n",
    "    for (counter = 0; counter < size; counter++)\n",
    "        printf(\"%d, \", array[counter]);\n",
    "    \n",
    "    printf(\"\\n\");\n",
    "    \n",
    "    for (counter = 0 ; counter < size - 1; counter++)\n",
    "    {\n",
    "        for (counter1 = 0 ; counter1 < size - counter - 1; counter1++)\n",
    "        {\n",
    "            if (array[counter1] > array[counter1+1])\n",
    "                {\n",
    "                    swap_var          = array[counter1];\n",
    "                    array[counter1]   = array[counter1+1];\n",
    "                    array[counter1+1] = swap_var;\n",
    "                }\n",
    "        }\n",
    "    }\n",
    "    \n",
    "    printf(\"\\n\\nBelow is the list of elements sorted in ascending order:\\n\");\n",
    "    \n",
    "    for (counter = 0; counter < size; counter++)\n",
    "        printf(\"%d, \", array[counter]);\n",
    "    \n",
    "    printf(\"\\n\");\n",
    "\n",
    "    return 0;\n",
    "}"
   ]
  }
 ],
 "metadata": {
  "kernelspec": {
   "display_name": "C",
   "language": "c",
   "name": "c"
  },
  "language_info": {
   "file_extension": ".c",
   "mimetype": "text/plain",
   "name": "c"
  }
 },
 "nbformat": 4,
 "nbformat_minor": 5
}
