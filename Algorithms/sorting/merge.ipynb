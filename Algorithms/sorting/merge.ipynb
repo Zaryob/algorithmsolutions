{
 "cells": [
  {
   "cell_type": "markdown",
   "id": "ce102c4c-50fa-404a-b407-0543624106bc",
   "metadata": {},
   "source": [
    "Merge Sort\n",
    "==========\n",
    "\n",
    "Merge sorting can be defined as another sorting algorithm that performs sorting by separating the array until it becomes a discrete value and then putting it together so that it becomes an ordered array.\n",
    "\n",
    "The process takes a little more time compared to other competing algorithms, but is considered highly efficient compared to others. When it comes to sorting a large list, this algorithm works very well and is therefore preferred in the development of the application that needs to handle the big list."
   ]
  },
  {
   "cell_type": "code",
   "execution_count": 1,
   "id": "60a2c30f-a7e8-4935-9278-8a6dde7668b1",
   "metadata": {},
   "outputs": [
    {
     "name": "stdout",
     "output_type": "stream",
     "text": [
      "Below is the list of elements not sorted order:\n",
      "21, 232, 34, 43, 23, 1, 56, 43, \n",
      "Below is the list of elements sorted in ascending order:\n",
      "1, 21, 23, 34, 43, 43, 56, 232, "
     ]
    }
   ],
   "source": [
    "#include<stdio.h>\n",
    "\n",
    "void perfrom_merge(int val[],int counter11,int counter12,int counter22,int counter21)\n",
    "{\n",
    "  int temp_val[50];\n",
    "  int c1,c2,c3;\n",
    "  c1=counter11;\n",
    "  c2=counter22;\n",
    "  c3=0;\n",
    "  while(c1<=counter12 && c2<=counter21)\n",
    "    {\n",
    "      if(val[c1]<val[c2])\n",
    "\ttemp_val[c3++]=val[c1++];\n",
    "      else\n",
    "\ttemp_val[c3++]=val[c2++];\n",
    "    }\n",
    "  while(c1<=counter12)\n",
    "    temp_val[c3++]=val[c1++];\n",
    "  while(c2<=counter21)\n",
    "    temp_val[c3++]=val[c2++];\n",
    "  for(c1=counter11,c2=0;c1<=counter21;c1++,c2++)\n",
    "    val[c1]=temp_val[c2];\n",
    "}\n",
    "\n",
    "\n",
    "void algo_merge_sort(int val[],int counter1,int counter2)\n",
    "{\n",
    "  int mid;\n",
    "  if(counter1<counter2)\n",
    "    {\n",
    "      mid=(counter1+counter2)/2;\n",
    "      algo_merge_sort(val,counter1,mid);\n",
    "      algo_merge_sort(val,mid+1,counter2);\n",
    "      perfrom_merge(val,counter1,mid,mid+1,counter2);\n",
    "    }\n",
    "}\n",
    "\n",
    "int main()\n",
    "{\n",
    "  int counter;\n",
    "    \n",
    "  int array[]={21,232,34,43,23,1,56,43}; // Integer array\n",
    "    \n",
    "  int size = sizeof array / sizeof array[0]; // lenght of array\n",
    "\n",
    "\n",
    "  printf(\"Below is the list of elements not sorted order:\\n\");\n",
    "\n",
    "  for (counter = 0; counter < size; counter++)\n",
    "    printf(\"%d, \", array[counter]);\n",
    "  printf(\"\\n\");\n",
    "    \n",
    "  algo_merge_sort(array,0,size-1);\n",
    "    \n",
    "  printf(\"Below is the list of elements sorted in ascending order:\\n\");\n",
    "  \n",
    "  for(counter=0;counter<size;counter++)\n",
    "    printf(\"%d, \",array[counter]);\n",
    "    \n",
    "  return 0;\n",
    "}"
   ]
  }
 ],
 "metadata": {
  "kernelspec": {
   "display_name": "C",
   "language": "c",
   "name": "c"
  },
  "language_info": {
   "file_extension": ".c",
   "mimetype": "text/plain",
   "name": "c"
  }
 },
 "nbformat": 4,
 "nbformat_minor": 5
}
