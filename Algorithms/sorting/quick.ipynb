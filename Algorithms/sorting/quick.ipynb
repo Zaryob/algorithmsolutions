{
 "cells": [
  {
   "cell_type": "markdown",
   "id": "6c9c543c-4b96-4781-a073-6a505555f336",
   "metadata": {},
   "source": [
    "Quick Sort\n",
    "==========\n",
    "\n",
    "Quicksort can be defined as the other algorithm for sorting the list where the approach is to divide the array bigger and smaller than the values. In this algorithm, the value of the last index of the array is selected as the pivot and all values less than the pivot are shifted to the expected array and higher value elements. More than shifting the pivot to the correct sequence. Again, a pivot is selected from the newly created array with values lower than the last pivot value. Similarly, values smaller than the new pivot will be shifted to the left array, and values larger than the new pivot will be shifted in the right array.\n",
    "\n",
    "  Sorting using this algorithm is much faster than other sorting algorithms and is therefore called fast sorting. Fast sorting is the only algorithm that takes the array to split until all values are split into separate strings. It will then be added or aggregated into a single sequence that is considered an ordered list."
   ]
  },
  {
   "cell_type": "code",
   "execution_count": 5,
   "id": "b3b483ad-0dd7-4530-bf1c-0b8f514ede75",
   "metadata": {},
   "outputs": [
    {
     "name": "stdout",
     "output_type": "stream",
     "text": [
      "Below is the list of elements not sorted order:\n",
      "21, 232, 34, 43, 23, 1, 56, 43, \n",
      "Below is the list of elements sorted in ascending order:\n",
      "1 21 23 34 43 43 56 232 \n"
     ]
    }
   ],
   "source": [
    "#include <stdio.h>\n",
    "#include <stdlib.h>\n",
    "\n",
    "void quicksort_method(int array[], int low, int high)\n",
    "{\n",
    "  int pivot, value1, value2, temp;\n",
    "  if (low < high)\n",
    "    {\n",
    "      pivot = low;\n",
    "      value1 = low;\n",
    "      value2 = high;\n",
    "      while (value1 < value2)\n",
    "    {\n",
    "      while (array[value1] <= array[pivot] && value1 <= high)\n",
    "        {\n",
    "          value1++;\n",
    "        }\n",
    "      while (array[value2] > array[pivot] && value2 >= low)\n",
    "        {\n",
    "          value2--;\n",
    "        }\n",
    "      if (value1 < value2)\n",
    "        {\n",
    "          temp = array[value1];\n",
    "          array[value1] = array[value2];\n",
    "          array[value2] = temp;\n",
    "        }\n",
    "    }\n",
    "      temp = array[value2];\n",
    "      array[value2] = array[pivot];\n",
    "      array[pivot] = temp;\n",
    "      quicksort_method(array, low, value2 - 1);\n",
    "      quicksort_method(array, value2 + 1, high);\n",
    "    }\n",
    "}\n",
    "\n",
    "int main()\n",
    "{\n",
    "  int counter;\n",
    "    \n",
    "  int array[]={21,232,34,43,23,1,56,43}; // Integer array\n",
    "    \n",
    "  int size = sizeof array / sizeof array[0]; // lenght of array\n",
    "\n",
    "  printf(\"Below is the list of elements not sorted order:\\n\");\n",
    "\n",
    "  for (counter = 0; counter < size; counter++)\n",
    "    printf(\"%d, \", array[counter]);\n",
    "  printf(\"\\n\");\n",
    "    \n",
    "  quicksort_method(array, 0, size - 1);\n",
    "\n",
    "  printf(\"Below is the list of elements sorted in ascending order:\\n\");\n",
    "\n",
    "  for (counter = 0; counter < size; counter++)\n",
    "  {\n",
    "    printf(\"%d \", array[counter]);\n",
    "  }\n",
    "  printf(\"\\n\");\n",
    "  return 0;\n",
    "}\n",
    "\n"
   ]
  },
  {
   "cell_type": "code",
   "execution_count": null,
   "id": "24485cc4-aedc-44bc-8dc0-3f65477cd6b0",
   "metadata": {},
   "outputs": [],
   "source": []
  }
 ],
 "metadata": {
  "kernelspec": {
   "display_name": "C",
   "language": "c",
   "name": "c"
  },
  "language_info": {
   "file_extension": ".c",
   "mimetype": "text/plain",
   "name": "c"
  }
 },
 "nbformat": 4,
 "nbformat_minor": 5
}
