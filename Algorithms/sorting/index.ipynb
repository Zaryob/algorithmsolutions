{
 "cells": [
  {
   "cell_type": "markdown",
   "id": "67eceab5-d55c-4292-b5db-f817a1d69d6e",
   "metadata": {},
   "source": [
    "Sorting Algorithms\n",
    "========\n",
    "Sorting is **\"rearragement elements of array using some techiques\"**. \n",
    "Sorting is crutial while sorting elements with some particular order, to recognize all data related.\n",
    "\n",
    "There are some algorithms for sorting. They can be listed as:\n",
    " * Bubble sort,\n",
    " * Selection sort,\n",
    " * Quick sort, \n",
    " * Merge sort, \n",
    " * Heap sort,\n",
    " * Insertion sort."
   ]
  }
 ],
 "metadata": {
  "kernelspec": {
   "display_name": "C",
   "language": "c",
   "name": "c"
  },
  "language_info": {
   "file_extension": ".c",
   "mimetype": "text/plain",
   "name": "c"
  }
 },
 "nbformat": 4,
 "nbformat_minor": 5
}
