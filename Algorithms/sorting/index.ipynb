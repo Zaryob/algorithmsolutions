{
 "cells": [
  {
   "cell_type": "markdown",
   "id": "67eceab5-d55c-4292-b5db-f817a1d69d6e",
   "metadata": {},
   "source": [
    "Sorting Algorithms\n",
    "========\n",
    "Sorting is **\"rearragement elements of array using some techiques\"**. \n",
    "Sorting is crutial while sorting elements with some particular order, to recognize all data related.\n",
    "\n",
    "There are some algorithms for sorting. They can be listed as:\n",
    " * Bubble sort\n",
    " * Selection sort\n",
    " * Quick sort\n",
    " * Merge sort\n",
    " * Heap sort\n",
    " * Insertion sort\n",
    " "
   ]
  },
  {
   "cell_type": "markdown",
   "id": "8c073718-aa9d-477e-972d-ce6d20e22312",
   "metadata": {},
   "source": [
    "## How sorting performed?\n",
    "\n",
    "Sorting can be performed in various ways based on algorithms. In C programming language, we will apply sorting for one dimentional arrays. \n",
    "\n",
    "Usually, in sorting algorithms, program searches for the minimum number or first element that go numb with order schema; and shift its variable to first block.\n"
   ]
  },
  {
   "cell_type": "markdown",
   "id": "6f6da3b5-01d3-4c94-97f8-f4460ccfb655",
   "metadata": {},
   "source": [
    "## Types what is different\n",
    "\n",
    "In sorting algorithms each sorting algorithm have its own rules and approach. One aprooach can need one more arrays to divide-and-conquer paradigm, the other one need to use some other functions and arithmetical operations. Each one of sorting have advantages and disadvantages."
   ]
  }
 ],
 "metadata": {
  "kernelspec": {
   "display_name": "C",
   "language": "c",
   "name": "c"
  },
  "language_info": {
   "file_extension": ".c",
   "mimetype": "text/plain",
   "name": "c"
  }
 },
 "nbformat": 4,
 "nbformat_minor": 5
}
