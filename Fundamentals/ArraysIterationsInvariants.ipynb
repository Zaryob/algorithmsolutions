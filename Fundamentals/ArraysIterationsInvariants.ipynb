{
 "cells": [
  {
   "cell_type": "markdown",
   "id": "69ab6860-c71b-4835-acde-37f2b93c54ed",
   "metadata": {},
   "source": [
    "Arrays, Iteration, Invariants\n",
    "=============================\n",
    "\n",
    "Data is base thing in the computers. They are absolutely stored with bit patterns and each pattern has its own relations and specifications. These days mostly high-level programming languages have its own higher level objects, such as character arrays (strings), integers and other number types, and also some type of specific object types.\n",
    "Generally, we need to build algorithms that manipulate collections of such objects,so we need procedures for storing and sequentially processing them. In low level languages like C and C++, we are be sure about what type of objects that we use."
   ]
  }
 ],
 "metadata": {
  "kernelspec": {
   "display_name": "C++14",
   "language": "C++14",
   "name": "xcpp14"
  },
  "language_info": {
   "codemirror_mode": "text/x-c++src",
   "file_extension": ".cpp",
   "mimetype": "text/x-c++src",
   "name": "c++",
   "version": "14"
  }
 },
 "nbformat": 4,
 "nbformat_minor": 5
}
