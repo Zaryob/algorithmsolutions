{
 "cells": [
  {
   "cell_type": "markdown",
   "id": "794f22e2-6114-465e-8c99-59706f01c67f",
   "metadata": {},
   "source": [
    "Trees\n",
    "====="
   ]
  }
 ],
 "metadata": {
  "kernelspec": {
   "display_name": "C",
   "language": "c",
   "name": "c"
  },
  "language_info": {
   "file_extension": ".c",
   "mimetype": "text/plain",
   "name": "c"
  }
 },
 "nbformat": 4,
 "nbformat_minor": 5
}
