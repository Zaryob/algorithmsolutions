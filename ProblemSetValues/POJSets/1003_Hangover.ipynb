{
 "cells": [
  {
   "cell_type": "markdown",
   "metadata": {},
   "source": [
    "**1003.***  Hangover\n",
    "====================\n",
    "\n",
    "How far can you make a stack of cards overhang a table? If you have one card, you can create a maximum overhang of half a card length. (We’re assuming that the cards must be perpendicular to the table.) With two cards you can make the top card overhang the bottom one by half a card length, and the bottom one overhang the table by a third of a card length, for a total maximum overhang of 1/2 + 1/3 = 5/6 card lengths. In general you can make n cards overhang by 1/2 + 1/3 + 1/4 + … + 1/(n + 1) card lengths, where the top card overhangs the second by 1/2, the second overhangs tha third by 1/3, the third overhangs the fourth by 1/4, etc., and the bottom card overhangs the table by 1/(n + 1). This is illustrated in the figure below.\n",
    "\n",
    "## Input\n",
    "\n",
    "The input consists of one or more test cases, followed by a line containing the number 0.00 that signals the end of the input. Each test case is a single line containing a positive floating-point number c whose value is at least 0.01 and at most 5.20; c will contain exactly three digits.\n",
    "Output\n",
    "\n",
    "For each test case, output the minimum number of cards necessary to achieve an overhang of at least c card lengths. Use the exact output format shown in the examples.\n",
    "\n",
    "## Sample Input\n",
    "```\n",
    "1.00\n",
    "3.71\n",
    "0.04\n",
    "5.19\n",
    "0.00\n",
    "```\n",
    "## Sample Output\n",
    "\n",
    "```\n",
    "3 card(s)\n",
    "61 card(s)\n",
    "1 card(s)\n",
    "273 card(s)\n",
    "```\n",
    "\n",
    "## Analysis of ideas:\n",
    "The test data in question can be known scale of the problem is not large, the maximum title, said input of 5.20, while the output test data for 273 5.19 , so we can know about the scale of the data.\n",
    "\n",
    "My idea is to result in a storage array will be down, so you do not judge every cycle, reduce the time complexity.When defining the array need not be specified great, but do not be prescribed to about 274Although data on the scale of 273 to the right a bit, but you know the denominator is growing, that number is very small number by 1 results, so even when the sum is 0.01 it could be also the result of a few numbers together, Thus the array as mentioned here 280\n",
    "\n",
    "Analyzing then recycled to\n",
    "\n",
    "In addition, 1 / n is divergent, and no direct summation formula\n",
    "\n",
    "\n",
    "## Jupyter Notebook Style Code\n",
    "\n",
    "Standart library and `iostream` library include\n"
   ]
  },
  {
   "cell_type": "code",
   "execution_count": 2,
   "metadata": {},
   "outputs": [],
   "source": [
    "#include <iostream>\n",
    "\n",
    "using namespace std;\n"
   ]
  },
  {
   "cell_type": "code",
   "execution_count": null,
   "metadata": {},
   "outputs": [],
   "source": [
    "float a, len;\n",
    "\n",
    "while(cin >> a, a) {\n",
    "    len = 0;\n",
    "    int i = 0;\n",
    "    while(len < a) {\n",
    "        len += 1.0 / (i + 2);\n",
    "        i ++;\n",
    "    }\n",
    "    cout << i << \" card(s)\" << endl;\n",
    "}\n",
    "return 0;"
   ]
  },
  {
   "cell_type": "markdown",
   "metadata": {},
   "source": [
    "\n",
    "## Whole Code\n",
    "\n",
    "\n",
    "```cpp\n",
    "#include <iostream>\n",
    "\n",
    "using namespace std;\n",
    "\n",
    "int main() {\n",
    "   float a, len;\n",
    "\n",
    "    while(cin >> a, a) {\n",
    "        len = 0;\n",
    "        int i = 0;\n",
    "        while(len < a) {\n",
    "            len += 1.0 / (i + 2);\n",
    "            i ++;\n",
    "        }\n",
    "        cout << i << \" card(s)\" << endl;\n",
    "    }\n",
    "    return 0;\n",
    "}\n",
    "```"
   ]
  }
 ],
 "metadata": {
  "kernelspec": {
   "display_name": "C++11",
   "language": "C++11",
   "name": "xcpp11"
  },
  "language_info": {
   "codemirror_mode": "text/x-c++src",
   "file_extension": ".cpp",
   "mimetype": "text/x-c++src",
   "name": "c++",
   "version": "11"
  }
 },
 "nbformat": 4,
 "nbformat_minor": 4
}
