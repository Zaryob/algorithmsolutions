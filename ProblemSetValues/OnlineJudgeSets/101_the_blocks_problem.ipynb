{
 "cells": [
  {
   "attachments": {
    "9c545397-6a0a-456e-b12c-b289c0003d87.png": {
     "image/png": "[encoded data removed]"
    }
   },
   "cell_type": "markdown",
   "metadata": {},
   "source": [
    "**101**. The Blocks Problem\n",
    "=====================\n",
    "\n",
    "Many areas of Computer Science use simple, abstract domains for both analytical and empirical studies.\n",
    "\n",
    "For example, an early AI study of planning and robotics (STRIPS) used a block world in which a robot\n",
    "arm performed tasks involving the manipulation of blocks.\n",
    "\n",
    "In this problem you will model a simple block world under certain rules and constraints. Rather\n",
    "than determine how to achieve a specified state, you will “program” a robotic arm to respond to a\n",
    "limited set of commands.\n",
    "\n",
    "The problem is to parse a series of commands that instruct a robot arm in how to manipulate blocks\n",
    "that lie on a flat table. Initially there are n blocks on the table (numbered from 0 to n − 1) with block `b(i)` adjacent to block `b(i+1)` for all 0 ≤ i < n − 1 as shown in the diagram below:\n",
    "\n",
    "![image.png](attachment:9c545397-6a0a-456e-b12c-b289c0003d87.png)\n",
    "\n",
    "The valid commands for the robot arm that manipulates blocks are:\n",
    "\n",
    "\n",
    "* move a onto b\n",
    "    where a and b are block numbers, puts block a onto block b after returning any blocks that are stacked on top of blocks a and b to their initial positions.\n",
    "* move a over b\n",
    "    where a and b are block numbers, puts block a onto the top of the stack containing block b, after returning any blocks that are stacked on top of block a to their initial positions.\n",
    "* pile a onto b\n",
    "    where a and b are block numbers, moves the pile of blocks consisting of block a, and any blocks that are stacked above block a, onto block b. All blocks on top of block b are moved to their initial positions prior to the pile taking place. The blocks stacked above block a retain their order when moved.\n",
    "* pile a over b\n",
    "    where a and b are block numbers, puts the pile of blocks consisting of block a, and any blocks that are stacked above block a, onto the top of the stack containing block b. The blocks stacked above block a retain their original order when moved.\n",
    "* quit\n",
    "    terminates manipulations in the block world.\n",
    "\n",
    "Any command in which a = b or in which a and b are in the same stack of blocks is an illegal\n",
    "command. All illegal commands should be ignored and should have no affect on the configuration of\n",
    "blocks.\n"
   ]
  },
  {
   "cell_type": "markdown",
   "metadata": {},
   "source": [
    "## Input\n",
    "The input begins with an integer n on a line by itself representing the number of blocks in the block world. You may assume that 0 < n < 25.\n",
    "\n",
    "The number of blocks is followed by a sequence of block commands, one command per line. Your program should process all commands until the quit command is encountered. You may assume that all commands will be of the form specified above. There will be no syntactically incorrect commands.\n",
    "\n",
    "## Output\n",
    "The output should consist of the final state of the blocks world. Each original block position numbered i (0 ≤ i < n where n is the number of blocks) should appear followed immediately by a colon. If there is at least a block on it, the colon must be followed by one space, followed by a list of blocks that appear stacked in that position with each block number separated from other block numbers by a space. Don’t put any trailing spaces on a line.\n",
    "\n",
    "There should be one line of output for each block position (i.e., n lines of output where n is the\n",
    "integer on the first line of input).\n",
    "\n",
    "## Sample Input\n",
    "```\n",
    "10\n",
    "move 9 onto 1\n",
    "move 8 over 1\n",
    "move 7 over 1\n",
    "move 6 over 1\n",
    "pile 8 over 6\n",
    "pile 8 over 5\n",
    "move 2 over 1\n",
    "move 4 over 9\n",
    "quit\n",
    "\n",
    "Sample Output\n",
    "0:0\n",
    "1: 1 9 2 4\n",
    "2:\n",
    "3: 3\n",
    "4:\n",
    "5: 5 8 7 6\n",
    "6:\n",
    "7:\n",
    "8:\n",
    "9:\n"
   ]
  }
 ],
 "metadata": {
  "kernelspec": {
   "display_name": "C++11",
   "language": "C++11",
   "name": "xcpp11"
  },
  "language_info": {
   "codemirror_mode": "text/x-c++src",
   "file_extension": ".cpp",
   "mimetype": "text/x-c++src",
   "name": "c++",
   "version": "11"
  }
 },
 "nbformat": 4,
 "nbformat_minor": 4
}
