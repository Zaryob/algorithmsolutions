{
 "cells": [
  {
   "cell_type": "markdown",
   "id": "718bf945-b617-41cd-afa5-07226eff0943",
   "metadata": {},
   "source": [
    "Selection Sort\n",
    "==============\n",
    "\n",
    "The selection sorting finds the minimum value in the list by browsing all the elements from the first to the last element one by one. Shifts the minimum value to the starting index of the current loop index, then changes the order of the first element to be searched, and does this again. In this way, recursive sorting is done.\n"
   ]
  },
  {
   "cell_type": "code",
   "execution_count": 8,
   "id": "cf333145-b39c-42a4-9c7a-d5f8a676a350",
   "metadata": {},
   "outputs": [
    {
     "name": "stdout",
     "output_type": "stream",
     "text": [
      "Below is the list of elements not sorted order:\n",
      "21, 232, 34, 43, 23, 1, 56, 43, \n",
      "Below is the list of elements sorted in ascending order:\n",
      "1, 21, 23, 34, 43, 43, 56, 232, \n"
     ]
    }
   ],
   "source": [
    "#include<stdio.h>\n",
    "#include<stdlib.h>\n",
    "\n",
    "int main()\n",
    "{\n",
    "    int counter1, counter2, minimum, swap_var;\n",
    "    \n",
    "    int array[]={21,232,34,43,23,1,56,43}; // Integer array\n",
    "    \n",
    "    int size = sizeof array / sizeof array[0]; // lenght of array\n",
    "    \n",
    "    printf(\"Below is the list of elements not sorted order:\\n\");\n",
    "    \n",
    "    for (counter1 = 0; counter1 < size; counter1++)\n",
    "        printf(\"%d, \", array[counter1]);\n",
    "    printf(\"\\n\");\n",
    "\n",
    "    \n",
    "    for(counter1=0;counter1<size-1;counter1++)\n",
    "    {\n",
    "        minimum=counter1;\n",
    "        for(counter2=counter1+1;counter2<size;counter2++)\n",
    "        {\n",
    "            if(array[minimum]>array[counter2])\n",
    "                minimum=counter2;\n",
    "        }\n",
    "        if(minimum!=counter1)\n",
    "        {\n",
    "            swap_var=array[counter1];\n",
    "            array[counter1]=array[minimum];\n",
    "            array[minimum]=swap_var;\n",
    "        }\n",
    "    }\n",
    "    \n",
    "    printf(\"Below is the list of elements sorted in ascending order:\\n\");\n",
    "    \n",
    "    for(counter1=0;counter1<size;counter1++)\n",
    "        printf(\"%d, \",array[counter1]);\n",
    "    printf(\"\\n\");\n",
    "    return 0;\n",
    "}"
   ]
  }
 ],
 "metadata": {
  "kernelspec": {
   "display_name": "C",
   "language": "c",
   "name": "c"
  },
  "language_info": {
   "file_extension": ".c",
   "mimetype": "text/plain",
   "name": "c"
  }
 },
 "nbformat": 4,
 "nbformat_minor": 5
}
