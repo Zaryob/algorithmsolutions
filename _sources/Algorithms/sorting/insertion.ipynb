{
 "cells": [
  {
   "cell_type": "markdown",
   "id": "9d9faeaa-6344-4638-9269-74a81438c857",
   "metadata": {},
   "source": [
    "Insertion Sort\n",
    "=============\n",
    "Insertion sort works by moving the minimum value at the beginning of the list one at a time. It can work good with the list that has pretty few numbers of elements. This is a very less efficient sorting algorithm and not found suitable to deal with the large list.\n"
   ]
  },
  {
   "cell_type": "code",
   "execution_count": 1,
   "id": "831959e1-1b42-42b4-9e7a-9f11bd21578d",
   "metadata": {},
   "outputs": [
    {
     "name": "stdout",
     "output_type": "stream",
     "text": [
      "Below is the list of elements not sorted order:\n",
      "21, 232, 34, 43, 23, 1, 56, 43, \n",
      "\n",
      " Output generated after using insertion sort \n",
      "1 21 23 34 43 43 56 232 "
     ]
    }
   ],
   "source": [
    "#include <stdio.h>\n",
    "#include <stdlib.h>\n",
    "\n",
    "int main()\n",
    "{\n",
    "    \n",
    "  int counter1, counter2, temp_val, end, temp;\n",
    "    \n",
    "  int array[]={21,232,34,43,23,1,56,43}; // Integer array\n",
    "    \n",
    "  int size = sizeof array / sizeof array[0]; // lenght of array\n",
    "\n",
    "\n",
    "  printf(\"Below is the list of elements not sorted order:\\n\");\n",
    "\n",
    "  for (counter1 = 0; counter1 < size; counter1++)\n",
    "    printf(\"%d, \", array[counter1]);\n",
    "  printf(\"\\n\");\n",
    "    \n",
    "  for(counter1=1;counter1<=size-1;counter1++)\n",
    "    {\n",
    "      temp_val=array[counter1];\n",
    "      counter2=counter1-1;\n",
    "      while((temp_val<array[counter2])&&(counter2>=0))\n",
    "\t{\n",
    "\t  array[counter2+1]=array[counter2];\n",
    "\t  counter2=counter2-1;\n",
    "\t}\n",
    "      array[counter2+1]=temp_val;\n",
    "    }\n",
    "  printf(\"\\n Output generated after using insertion sort \\n\");\n",
    "  for(counter1=0;counter1<size;counter1++)\n",
    "    {\n",
    "      printf(\"%d \",array[counter1]);\n",
    "    }\n",
    "  return 0;\n",
    "}\n"
   ]
  }
 ],
 "metadata": {
  "kernelspec": {
   "display_name": "C",
   "language": "c",
   "name": "c"
  },
  "language_info": {
   "file_extension": ".c",
   "mimetype": "text/plain",
   "name": "c"
  }
 },
 "nbformat": 4,
 "nbformat_minor": 5
}
