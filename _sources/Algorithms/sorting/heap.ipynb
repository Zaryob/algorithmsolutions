{
 "cells": [
  {
   "cell_type": "markdown",
   "id": "85a30f81-e3fb-4796-b0a4-cf30119cf9fe",
   "metadata": {},
   "source": [
    "Heap Sort\n",
    "=========\n",
    "\n",
    "Heap sorting can be defined as the sorting algorithm that works by searching for the maximum item in the list and placing it in the last. The algorithm performs the action recursively until the sequence is sorted in ascending order.\n",
    "he process of selecting the maximum value and moving it to the end takes a lot of time and is therefore considered a less efficient sorting approach when it comes to sorting the large list. However, it works well with lists of limited values.\n"
   ]
  },
  {
   "cell_type": "code",
   "execution_count": 4,
   "id": "b7e6dd3d-2a8d-48de-bad8-be5505889778",
   "metadata": {},
   "outputs": [
    {
     "name": "stdout",
     "output_type": "stream",
     "text": [
      "Below is the list of elements not sorted order:\n",
      "21, 232, 34, 43, 23, 1, 56, 43, \n",
      "\n",
      "Output generated after using heap sort \n",
      "1 23 34 43 43 56 232 23 "
     ]
    }
   ],
   "source": [
    "#include <stdio.h>\n",
    "#include <stdlib.h>\n",
    "\n",
    "\n",
    "void set_down(int array[],int counter)\n",
    "{\n",
    "  int counter2,temp,size,flag=1;\n",
    "  size=array[0];\n",
    "  while(2*counter<=size && flag==1)\n",
    "    {\n",
    "      counter2=2*counter;\n",
    "      if(counter2+1<=size && array[counter2+1] > array[counter2])\n",
    "\t    counter2=counter2+1;\n",
    "      if(array[counter] > array[counter2])\n",
    "\t    flag=0;\n",
    "      else\n",
    "\t  {\n",
    "\t    temp=array[counter];\n",
    "\t    array[counter]=array[counter2];\n",
    "\t    array[counter2]=temp;\n",
    "\t    counter=counter2;\n",
    "\t  }\n",
    "    }\n",
    "}\n",
    "\n",
    "void form(int array[])\n",
    "{\n",
    "  int counter,size;\n",
    "  size=array[0];\n",
    "  for(counter=size/2;counter>=1;counter--)\n",
    "    set_down(array,counter);\n",
    "}\n",
    "\n",
    "\n",
    "int main()\n",
    "{\n",
    "  int counter, total_count, end, temp;\n",
    "    \n",
    "  int array[]={21,232,34,43,23,1,56,43}; // Integer array\n",
    "    \n",
    "  int size = sizeof array / sizeof array[0]; // lenght of array\n",
    "\n",
    "\n",
    "  printf(\"Below is the list of elements not sorted order:\\n\");\n",
    "\n",
    "  for (counter = 0; counter < size; counter++)\n",
    "    printf(\"%d, \", array[counter]);\n",
    "  printf(\"\\n\");\n",
    "    \n",
    "  array[0]=size;\n",
    "  form(array);\n",
    "  while(array[0] > 1)\n",
    "    {\n",
    "      end=array[0];\n",
    "      temp=array[1];\n",
    "      array[1]=array[end];\n",
    "      array[end]=temp;\n",
    "      array[0]--;\n",
    "      set_down(array,1);\n",
    "    }\n",
    "  printf(\"\\nOutput generated after using heap sort \\n\");\n",
    "  for(counter=1;counter<=size;counter++)\n",
    "    printf(\"%d \",array[counter]);\n",
    "}\n"
   ]
  }
 ],
 "metadata": {
  "kernelspec": {
   "display_name": "C",
   "language": "c",
   "name": "c"
  },
  "language_info": {
   "file_extension": ".c",
   "mimetype": "text/plain",
   "name": "c"
  }
 },
 "nbformat": 4,
 "nbformat_minor": 5
}
