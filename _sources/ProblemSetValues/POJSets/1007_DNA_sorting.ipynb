{
 "cells": [
  {
   "cell_type": "markdown",
   "metadata": {},
   "source": [
    "**1007.** DNA Sorting\n",
    "=====================\n",
    "\n",
    "One measure of ``unsortedness`` in a sequence is the number of pairs of entries that are out of order with respect to each other. For instance, in the letter sequence ``DAABEC``, this measure is 5, since D is greater than four letters to its right and E is greater than one letter to its right. This measure is called the number of inversions in the sequence. The sequence ``AACEDGG`` has only one inversion (E and D)---it is nearly sorted---while the sequence ``ZWQM`` has 6 inversions (it is as unsorted as can be---exactly the reverse of sorted).\n",
    "\n",
    "You are responsible for cataloguing a sequence of DNA strings (sequences containing only the four letters A, C, G, and T). However, you want to catalog them, not in alphabetical order, but rather in order of ``sortedness``, from ``most sorted`` to ``least sorted``. All the strings are of the same length.\n",
    "\n",
    "## Input\n",
    "\n",
    "The first line contains two integers: a positive integer n (0 < n <= 50) giving the length of the strings; and a positive integer m (0 < m <= 100) giving the number of strings. These are followed by m lines, each containing a string of length n.\n",
    "\n",
    "## Output\n",
    "\n",
    "Output the list of input strings, arranged from ``most sorted'' to ``least sorted''. Since two strings can be equally sorted, then output them according to the orginal order.\n",
    "\n",
    "## Sample Input\n",
    "```\n",
    "10 6\n",
    "AACATGAAGG\n",
    "TTTTGGCCAA\n",
    "TTTGGCCAAA\n",
    "GATCAGATTT\n",
    "CCCGGGGGGA\n",
    "ATCGATGCAT\n",
    "```\n",
    "\n",
    "## Sample Output\n",
    "\n",
    "```\n",
    "CCCGGGGGGA\n",
    "AACATGAAGG\n",
    "GATCAGATTT\n",
    "ATCGATGCAT\n",
    "TTTTGGCCAA\n",
    "TTTGGCCAAA\n",
    "```\n",
    "\n",
    "## Jupyter Notebook Style Code\n",
    "\n",
    "Standart library and `iostream` library include"
   ]
  },
  {
   "cell_type": "code",
   "execution_count": 1,
   "metadata": {},
   "outputs": [],
   "source": [
    "#include <iostream>\n",
    "#include <bits/stdc++.h>\n",
    "\n",
    "using namespace std;\n"
   ]
  },
  {
   "cell_type": "markdown",
   "metadata": {},
   "source": [
    "DNA Structure to get all datas up in one variable"
   ]
  },
  {
   "cell_type": "code",
   "execution_count": 2,
   "metadata": {},
   "outputs": [],
   "source": [
    "\n",
    "struct dna\n",
    "{\n",
    "        int pos;\n",
    "        int key;\n",
    "        string str;\n",
    "};"
   ]
  },
  {
   "cell_type": "markdown",
   "metadata": {},
   "source": [
    "Comparison function for DNA Structure:"
   ]
  },
  {
   "cell_type": "code",
   "execution_count": 3,
   "metadata": {},
   "outputs": [],
   "source": [
    "bool cmp(const dna &a, const dna &b)\n",
    "{\n",
    "        if (a.key != b.key)\n",
    "        {\n",
    "                return a.key < b.key;\n",
    "        }\n",
    "        else\n",
    "        {\n",
    "                return a.pos < b.pos;\n",
    "        }\n",
    "}\n"
   ]
  },
  {
   "cell_type": "markdown",
   "metadata": {},
   "source": [
    "Main function:"
   ]
  },
  {
   "cell_type": "code",
   "execution_count": null,
   "metadata": {},
   "outputs": [],
   "source": [
    "int n, m, count;\n",
    "dna inv[110];\n",
    "string str;\n",
    "cin >> n >> m;\n",
    "\n",
    "for (int i = 0; i < m; i++)\n",
    "{\n",
    "        cin >> str;\n",
    "        count = 0;\n",
    "        for (int j = 0; j < n - 1; j++)\n",
    "        {\n",
    "                for (int k = j + 1; k < n; k++)\n",
    "                {\n",
    "                        if (str[j] > str[k]) count++;\n",
    "                }\n",
    "        }\n",
    "        inv[i].key = count;\n",
    "        inv[i].pos = i;\n",
    "        inv[i].str = str;\n",
    "}\n",
    "\n",
    "sort(inv, inv + m, cmp);\n",
    "\n",
    "for (int i = 0; i < m; i++)\n",
    "{\n",
    "        cout << inv[i].str << endl;\n",
    "}\n",
    "\n",
    "return 0;"
   ]
  },
  {
   "cell_type": "markdown",
   "metadata": {},
   "source": [
    "\n",
    "## Whole Code\n",
    "\n",
    "\n",
    "```cpp\n",
    "#include <iostream>\n",
    "#include <bits/stdc++.h>\n",
    "\n",
    "using namespace std;\n",
    "\n",
    "struct dna\n",
    "{\n",
    "        int pos;\n",
    "        int key;\n",
    "        string str;\n",
    "};\n",
    "\n",
    "bool cmp(const dna &a, const dna &b)\n",
    "{\n",
    "        if (a.key != b.key)\n",
    "        {\n",
    "                return a.key < b.key;\n",
    "        }\n",
    "        else\n",
    "        {\n",
    "                return a.pos < b.pos;\n",
    "        }\n",
    "}\n",
    "\n",
    "int main()\n",
    "{\n",
    "        int n, m, count;\n",
    "        dna inv[110];\n",
    "        string str;\n",
    "        cin >> n >> m;\n",
    "\n",
    "        for (int i = 0; i < m; i++)\n",
    "        {\n",
    "                cin >> str;\n",
    "                count = 0;\n",
    "                for (int j = 0; j < n - 1; j++)\n",
    "                {\n",
    "                        for (int k = j + 1; k < n; k++)\n",
    "                        {\n",
    "                                if (str[j] > str[k]) count++;\n",
    "                        }\n",
    "                }\n",
    "                inv[i].key = count;\n",
    "                inv[i].pos = i;\n",
    "                inv[i].str = str;\n",
    "        }\n",
    "\n",
    "        sort(inv, inv + m, cmp);\n",
    "\n",
    "        for (int i = 0; i < m; i++)\n",
    "        {\n",
    "                cout << inv[i].str << endl;\n",
    "        }\n",
    "\n",
    "        return 0;\n",
    "}\n",
    "\n",
    "```"
   ]
  }
 ],
 "metadata": {
  "kernelspec": {
   "display_name": "C++11",
   "language": "C++11",
   "name": "xcpp11"
  },
  "language_info": {
   "codemirror_mode": "text/x-c++src",
   "file_extension": ".cpp",
   "mimetype": "text/x-c++src",
   "name": "c++",
   "version": "11"
  }
 },
 "nbformat": 4,
 "nbformat_minor": 4
}
